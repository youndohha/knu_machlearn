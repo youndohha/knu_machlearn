{
  "cells": [
    {
      "cell_type": "code",
      "execution_count": null,
      "metadata": {
        "id": "n1cKKTh3kJgS"
      },
      "outputs": [],
      "source": [
        "a=3\n",
        "b=2   # shift enter 를 하면 cell 이 실행됨."
      ]
    },
    {
      "cell_type": "code",
      "execution_count": null,
      "metadata": {
        "colab": {
          "base_uri": "https://localhost:8080/"
        },
        "id": "z7tYp15BlfIA",
        "outputId": "834ebc49-aef5-4250-9b3b-a480807037ed"
      },
      "outputs": [],
      "source": [
        "a"
      ]
    },
    {
      "cell_type": "code",
      "execution_count": null,
      "metadata": {
        "colab": {
          "base_uri": "https://localhost:8080/"
        },
        "id": "DV2aZWAglfWd",
        "outputId": "7d75d5f3-830e-402d-c7ec-6aba1e6fc730"
      },
      "outputs": [],
      "source": [
        "b"
      ]
    },
    {
      "cell_type": "code",
      "execution_count": null,
      "metadata": {
        "id": "vm9rQWQ4lfRB"
      },
      "outputs": [],
      "source": [
        "c=a+b"
      ]
    },
    {
      "cell_type": "code",
      "execution_count": null,
      "metadata": {
        "colab": {
          "base_uri": "https://localhost:8080/"
        },
        "id": "2us-3DzAlfNv",
        "outputId": "f1961062-acdc-474c-83d6-d57f45939cb2"
      },
      "outputs": [],
      "source": [
        "c"
      ]
    },
    {
      "cell_type": "code",
      "execution_count": null,
      "metadata": {
        "colab": {
          "base_uri": "https://localhost:8080/"
        },
        "id": "dd_A2ExAlfLP",
        "outputId": "9480cc6d-5c18-4e6f-bae9-087e02413da4"
      },
      "outputs": [],
      "source": [
        "print(\"hello world\")"
      ]
    },
    {
      "cell_type": "code",
      "execution_count": null,
      "metadata": {
        "colab": {
          "base_uri": "https://localhost:8080/"
        },
        "id": "jzcLHiLhlViy",
        "outputId": "b625122b-167f-42c1-8907-60827561594d"
      },
      "outputs": [],
      "source": [
        "3*10 - 2"
      ]
    },
    {
      "cell_type": "code",
      "execution_count": null,
      "metadata": {
        "id": "wgNDTcyGl5um"
      },
      "outputs": [],
      "source": [
        "# +   -   *   /"
      ]
    },
    {
      "cell_type": "code",
      "execution_count": null,
      "metadata": {
        "colab": {
          "base_uri": "https://localhost:8080/"
        },
        "id": "f3qJQLjwl50C",
        "outputId": "0904e2c1-3c8a-40cf-dc7c-3993ed7143fa"
      },
      "outputs": [],
      "source": [
        "3/2"
      ]
    },
    {
      "cell_type": "code",
      "execution_count": null,
      "metadata": {
        "colab": {
          "base_uri": "https://localhost:8080/",
          "height": 52
        },
        "id": "-8vw-5pTl5xr",
        "outputId": "292594c8-82bf-4bac-d129-22032a95ce59"
      },
      "outputs": [],
      "source": [
        "input(\"My age is \")"
      ]
    },
    {
      "cell_type": "code",
      "execution_count": null,
      "metadata": {
        "colab": {
          "base_uri": "https://localhost:8080/"
        },
        "id": "sa5TpkQJmT1W",
        "outputId": "163426bd-b027-4e8a-f3d5-ef4819e0b126"
      },
      "outputs": [],
      "source": [
        "str = input(\"My age is \")"
      ]
    },
    {
      "cell_type": "code",
      "execution_count": null,
      "metadata": {
        "colab": {
          "base_uri": "https://localhost:8080/"
        },
        "id": "lxz3duLpmT56",
        "outputId": "e450630f-b9da-435e-8f3f-6dc6ab0e9002"
      },
      "outputs": [],
      "source": [
        "print(str)"
      ]
    },
    {
      "cell_type": "code",
      "execution_count": null,
      "metadata": {
        "colab": {
          "base_uri": "https://localhost:8080/"
        },
        "id": "4rYNhQsdmTya",
        "outputId": "44590554-e0b8-4e22-cd92-6421ba0e675b"
      },
      "outputs": [],
      "source": [
        "year = input(\"This year is \")"
      ]
    },
    {
      "cell_type": "code",
      "execution_count": null,
      "metadata": {
        "colab": {
          "base_uri": "https://localhost:8080/"
        },
        "id": "GaFAttsClYxU",
        "outputId": "0e3f5981-2341-4aee-dd2a-b7a02977fe63"
      },
      "outputs": [],
      "source": [
        "eval(year) + 1"
      ]
    },
    {
      "cell_type": "code",
      "execution_count": null,
      "metadata": {
        "colab": {
          "base_uri": "https://localhost:8080/"
        },
        "id": "xCJ9sx7em4R6",
        "outputId": "81c2d31f-1ab6-4199-a9c7-2c4496997519"
      },
      "outputs": [],
      "source": [
        "a=input(\"first number\")\n",
        "b=input(\"second number\")\n",
        "\n",
        "c = eval(a) +eval(b)"
      ]
    },
    {
      "cell_type": "code",
      "execution_count": null,
      "metadata": {
        "colab": {
          "base_uri": "https://localhost:8080/"
        },
        "id": "0-Ujrxn_nI-B",
        "outputId": "b86b4825-28f4-4416-a964-0010aaba70a6"
      },
      "outputs": [],
      "source": [
        "print(c)"
      ]
    },
    {
      "cell_type": "code",
      "execution_count": null,
      "metadata": {
        "id": "HYqZJoqAnJC1"
      },
      "outputs": [],
      "source": [
        "# 파스칼 표기법\n",
        "# - 첫 번째 문자가 대문자, 나머지는 소문자\n",
        "# - 클레스, 메소드 명에서 권장"
      ]
    },
    {
      "cell_type": "code",
      "execution_count": null,
      "metadata": {
        "id": "dpeZTN63nJIV"
      },
      "outputs": [],
      "source": [
        "# 카멜 표기법\n",
        "# 단어 + 단어. 두번쨰 단어의 첫 문자를 대문자로 지어라 \n",
        "# 예) totalCost, variableSum"
      ]
    },
    {
      "cell_type": "code",
      "execution_count": null,
      "metadata": {
        "id": "cgPCqva1nJOg"
      },
      "outputs": [],
      "source": [
        "# 변수에 지나친 축약어를 피한다"
      ]
    },
    {
      "cell_type": "code",
      "execution_count": null,
      "metadata": {
        "id": "CnVHOk3ZnJev"
      },
      "outputs": [],
      "source": [
        "# Boolean 변수\n",
        "# is 접두어 사용\n",
        "# isFind, isExist"
      ]
    },
    {
      "cell_type": "code",
      "execution_count": null,
      "metadata": {
        "id": "M37InZj0nJcx"
      },
      "outputs": [],
      "source": [
        "x, y = 1, 2"
      ]
    },
    {
      "cell_type": "code",
      "execution_count": null,
      "metadata": {
        "colab": {
          "base_uri": "https://localhost:8080/"
        },
        "id": "DZOy4vDCnJaZ",
        "outputId": "3f9118e5-044b-4c1f-f619-8089029dc89b"
      },
      "outputs": [],
      "source": [
        "print(x)"
      ]
    },
    {
      "cell_type": "code",
      "execution_count": null,
      "metadata": {
        "colab": {
          "base_uri": "https://localhost:8080/"
        },
        "id": "YXeBOGJVnJVb",
        "outputId": "634943c7-e837-4409-c17c-7a776f5bd9f7"
      },
      "outputs": [],
      "source": [
        "print(y)"
      ]
    },
    {
      "cell_type": "code",
      "execution_count": null,
      "metadata": {
        "id": "g6QBcVnUpHTv"
      },
      "outputs": [],
      "source": [
        "y,x=x,y"
      ]
    },
    {
      "cell_type": "code",
      "execution_count": null,
      "metadata": {
        "colab": {
          "base_uri": "https://localhost:8080/"
        },
        "id": "2hhWrbOepKZh",
        "outputId": "511e91f7-1b30-4f6c-b8f2-b81c34563521"
      },
      "outputs": [],
      "source": [
        "print(x)"
      ]
    },
    {
      "cell_type": "code",
      "execution_count": null,
      "metadata": {
        "colab": {
          "base_uri": "https://localhost:8080/"
        },
        "id": "te_M0yOUpPq9",
        "outputId": "4c72f483-af7c-4978-d920-65043290647c"
      },
      "outputs": [],
      "source": [
        "print(y)"
      ]
    },
    {
      "cell_type": "code",
      "execution_count": null,
      "metadata": {
        "id": "thm96EeXpQX1"
      },
      "outputs": [],
      "source": [
        "def sayHello():\n",
        "  print(\"Hello World\")"
      ]
    },
    {
      "cell_type": "code",
      "execution_count": null,
      "metadata": {
        "colab": {
          "base_uri": "https://localhost:8080/"
        },
        "id": "o07hkuyepaA6",
        "outputId": "6c5d1e2f-f304-4bf7-a7bd-d6469517a37c"
      },
      "outputs": [],
      "source": [
        "sayHello()"
      ]
    },
    {
      "cell_type": "code",
      "execution_count": null,
      "metadata": {
        "id": "zzGq9qtktqvX"
      },
      "outputs": [],
      "source": [
        "def add(a, b):\n",
        "  return a+b"
      ]
    },
    {
      "cell_type": "code",
      "execution_count": null,
      "metadata": {
        "colab": {
          "base_uri": "https://localhost:8080/"
        },
        "id": "S4xrNgXeuGj_",
        "outputId": "b0d4cbcd-7cb9-4c08-fe4b-3fbb6614ed4b"
      },
      "outputs": [],
      "source": [
        "add(3,4)"
      ]
    },
    {
      "cell_type": "code",
      "execution_count": null,
      "metadata": {
        "id": "DdJDnKFouJRt"
      },
      "outputs": [],
      "source": [
        "def multiply(a,b):\n",
        "  return a*b"
      ]
    },
    {
      "cell_type": "code",
      "execution_count": null,
      "metadata": {
        "colab": {
          "base_uri": "https://localhost:8080/"
        },
        "id": "SPP39cD1uMOq",
        "outputId": "ec89f4ad-7171-4313-87d7-3f8427b635c0"
      },
      "outputs": [],
      "source": [
        "multiply(3,4)"
      ]
    },
    {
      "cell_type": "code",
      "execution_count": null,
      "metadata": {
        "id": "_9QF1gJNuNyI"
      },
      "outputs": [],
      "source": [
        "def greet2(name):\n",
        "  print(\"반갑습니다\", name)"
      ]
    },
    {
      "cell_type": "code",
      "execution_count": null,
      "metadata": {
        "colab": {
          "base_uri": "https://localhost:8080/"
        },
        "id": "Wn58JqRPuZzt",
        "outputId": "1ebd5ac8-d6fe-452b-9340-1db4c5039d4b"
      },
      "outputs": [],
      "source": [
        "greet2(\"하윤도\")"
      ]
    },
    {
      "cell_type": "code",
      "execution_count": null,
      "metadata": {
        "id": "EHRTqo8lucJd"
      },
      "outputs": [],
      "source": [
        "def adder(a,b):\n",
        "  sum_ = a + b\n",
        "  return sum_"
      ]
    },
    {
      "cell_type": "code",
      "execution_count": null,
      "metadata": {
        "colab": {
          "base_uri": "https://localhost:8080/"
        },
        "id": "rxmTLuYZu06q",
        "outputId": "fa2f604b-d307-4c70-8813-1ec1c5bf551c"
      },
      "outputs": [],
      "source": [
        "adder(2,4)"
      ]
    },
    {
      "cell_type": "code",
      "execution_count": null,
      "metadata": {
        "id": "Mw2bc5nVu20l"
      },
      "outputs": [],
      "source": [
        "def main():\n",
        "  c=adder(1,4)\n",
        "  print(c)"
      ]
    },
    {
      "cell_type": "code",
      "execution_count": null,
      "metadata": {
        "colab": {
          "base_uri": "https://localhost:8080/"
        },
        "id": "fYG9yWOqu46T",
        "outputId": "e76bffdf-cf41-4729-b98a-3462cfab71a7"
      },
      "outputs": [],
      "source": [
        "main()"
      ]
    },
    {
      "cell_type": "code",
      "execution_count": null,
      "metadata": {
        "colab": {
          "base_uri": "https://localhost:8080/"
        },
        "id": "BJUyhz25u5AK",
        "outputId": "42dea1dd-7be1-4d37-f1c0-0cad2d4a9bf6"
      },
      "outputs": [],
      "source": [
        "min(2,4)"
      ]
    },
    {
      "cell_type": "code",
      "execution_count": null,
      "metadata": {
        "colab": {
          "base_uri": "https://localhost:8080/"
        },
        "id": "I7wa2i9gu43Z",
        "outputId": "ac482a1c-77b5-40e9-f10b-1be3dd9ba682"
      },
      "outputs": [],
      "source": [
        "max(3,5)"
      ]
    },
    {
      "cell_type": "code",
      "execution_count": null,
      "metadata": {
        "colab": {
          "base_uri": "https://localhost:8080/"
        },
        "id": "TBtwQ6cNu409",
        "outputId": "83a10d01-8a3c-4157-b912-a6ad97458a3b"
      },
      "outputs": [],
      "source": [
        "round(2.4)"
      ]
    },
    {
      "cell_type": "code",
      "execution_count": null,
      "metadata": {
        "colab": {
          "base_uri": "https://localhost:8080/"
        },
        "id": "25eFkR_Uu4yo",
        "outputId": "63b986bd-bca5-41b3-efcf-12cf57f8d6b4"
      },
      "outputs": [],
      "source": [
        "round(2.6)"
      ]
    },
    {
      "cell_type": "code",
      "execution_count": null,
      "metadata": {
        "colab": {
          "base_uri": "https://localhost:8080/"
        },
        "id": "FLzigm3GveRP",
        "outputId": "c6b5ea3d-97bd-44e7-d4b0-8b7c38eb0146"
      },
      "outputs": [],
      "source": [
        "abs(-4)"
      ]
    },
    {
      "cell_type": "code",
      "execution_count": null,
      "metadata": {
        "colab": {
          "base_uri": "https://localhost:8080/"
        },
        "id": "5ib1zKehveOe",
        "outputId": "d65e0bb7-ee7a-4ce5-c2b6-c7176da8dffb"
      },
      "outputs": [],
      "source": [
        "pow(2,4)"
      ]
    },
    {
      "cell_type": "code",
      "execution_count": null,
      "metadata": {
        "colab": {
          "base_uri": "https://localhost:8080/"
        },
        "id": "OdRUI44gveMD",
        "outputId": "669dcef8-1bf0-4360-bf73-18b71582adf0"
      },
      "outputs": [],
      "source": [
        "10 % 3"
      ]
    },
    {
      "cell_type": "code",
      "execution_count": null,
      "metadata": {
        "colab": {
          "base_uri": "https://localhost:8080/"
        },
        "id": "1dSp-fl4vmJZ",
        "outputId": "9fa89f62-7c49-4060-c882-3d35e0b387ce"
      },
      "outputs": [],
      "source": [
        "10//3  "
      ]
    },
    {
      "cell_type": "code",
      "execution_count": null,
      "metadata": {
        "id": "acrR5vxd0c-s"
      },
      "outputs": [],
      "source": [
        "def ret():\n",
        "  return 12"
      ]
    },
    {
      "cell_type": "code",
      "execution_count": null,
      "metadata": {
        "colab": {
          "base_uri": "https://localhost:8080/"
        },
        "id": "3_fd8D2YvmGL",
        "outputId": "da2303af-49c4-40da-c046-7757f14ed3d7"
      },
      "outputs": [],
      "source": [
        "result = eval(input(\"뭐든 넣어요: \"))"
      ]
    },
    {
      "cell_type": "code",
      "execution_count": null,
      "metadata": {
        "colab": {
          "base_uri": "https://localhost:8080/"
        },
        "id": "BtNdM6livmDF",
        "outputId": "0e6237d5-f07c-4222-b1e0-a0a506d950cb"
      },
      "outputs": [],
      "source": [
        "print(result)"
      ]
    },
    {
      "cell_type": "code",
      "execution_count": null,
      "metadata": {
        "id": "RvCEJnirvl6o"
      },
      "outputs": [],
      "source": [
        "sum =0\n",
        "for i in range(1,11):\n",
        "  sum = sum + i"
      ]
    },
    {
      "cell_type": "code",
      "execution_count": null,
      "metadata": {
        "colab": {
          "base_uri": "https://localhost:8080/"
        },
        "id": "5bNupvsfveJl",
        "outputId": "58bfa39a-de23-4d87-86ca-0ad49e9fa1a0"
      },
      "outputs": [],
      "source": [
        "sum"
      ]
    },
    {
      "cell_type": "code",
      "execution_count": null,
      "metadata": {
        "colab": {
          "base_uri": "https://localhost:8080/"
        },
        "id": "bF_UbX32veHD",
        "outputId": "27ee0f1c-dbe9-42da-c0d8-b6e1f952891e"
      },
      "outputs": [],
      "source": [
        "import random\n",
        "\n",
        "NUMBER_OF_TRIALS = 50000000\n",
        "number_of_hits = 0\n",
        "\n",
        "for i in range(NUMBER_OF_TRIALS):\n",
        "  x = random.random() * 2 -1\n",
        "  y = random.random() * 2 -1\n",
        "\n",
        "  if (x*x+y*y<=1):\n",
        "    number_of_hits +=1\n",
        "\n",
        "pi = 4* number_of_hits/NUMBER_OF_TRIALS\n",
        "print(pi)"
      ]
    },
    {
      "cell_type": "code",
      "execution_count": null,
      "metadata": {
        "colab": {
          "base_uri": "https://localhost:8080/"
        },
        "id": "kPP72RBLveD7",
        "outputId": "80ec629b-bea7-40c2-f764-0725e2828069"
      },
      "outputs": [],
      "source": [
        "import random\n",
        "\n",
        "NUMBER_OF_TRIALS = 10000000\n",
        "number_of_hits = 0\n",
        "\n",
        "i=0\n",
        "while(  i <NUMBER_OF_TRIALS):\n",
        "  x = random.random() * 2 -1\n",
        "  y = random.random() * 2 -1\n",
        "\n",
        "  if (x*x+y*y<=1):\n",
        "    number_of_hits +=1\n",
        "\n",
        "  i = i+1\n",
        "\n",
        "pi = 4* number_of_hits/NUMBER_OF_TRIALS\n",
        "print(pi)"
      ]
    },
    {
      "cell_type": "code",
      "execution_count": null,
      "metadata": {
        "id": "fdI9ATUp1ZFT"
      },
      "outputs": [],
      "source": [
        "x=3"
      ]
    },
    {
      "cell_type": "code",
      "execution_count": null,
      "metadata": {
        "id": "KXmEKTn91ZDA"
      },
      "outputs": [],
      "source": [
        "y=2"
      ]
    },
    {
      "cell_type": "code",
      "execution_count": null,
      "metadata": {
        "colab": {
          "base_uri": "https://localhost:8080/"
        },
        "id": "JyNuq_C91Y_Z",
        "outputId": "095dd0a0-9ce6-4b88-fa25-6613fedde6e8"
      },
      "outputs": [],
      "source": [
        "bool(x!=y)"
      ]
    },
    {
      "cell_type": "code",
      "execution_count": null,
      "metadata": {
        "colab": {
          "base_uri": "https://localhost:8080/"
        },
        "id": "P30IPvdX1Y9D",
        "outputId": "a84cd955-cd8c-417e-c98e-0faf7b20c344"
      },
      "outputs": [],
      "source": [
        "bool(False or False)"
      ]
    },
    {
      "cell_type": "code",
      "execution_count": null,
      "metadata": {
        "colab": {
          "base_uri": "https://localhost:8080/"
        },
        "id": "XseYd9Zf1Y6h",
        "outputId": "742d88cc-b8a3-4137-ce4c-21f365ed41da"
      },
      "outputs": [],
      "source": [
        "bool(True and False)"
      ]
    },
    {
      "cell_type": "code",
      "execution_count": null,
      "metadata": {
        "colab": {
          "base_uri": "https://localhost:8080/"
        },
        "id": "0VOXEn2f1Y3x",
        "outputId": "5f713367-44c5-495f-ce4d-078a637b45c9"
      },
      "outputs": [],
      "source": [
        "bool(not (True and False))"
      ]
    },
    {
      "cell_type": "code",
      "execution_count": null,
      "metadata": {
        "colab": {
          "base_uri": "https://localhost:8080/"
        },
        "id": "Th05sPrY1Y1O",
        "outputId": "39008e72-f3d3-46c4-9a87-232fefeb7b52"
      },
      "outputs": [],
      "source": [
        "bool((not True) or True )"
      ]
    },
    {
      "cell_type": "code",
      "execution_count": null,
      "metadata": {
        "id": "RGapfYCm1Yy3"
      },
      "outputs": [],
      "source": [
        "a=[1, 2, 3]"
      ]
    },
    {
      "cell_type": "code",
      "execution_count": null,
      "metadata": {
        "colab": {
          "base_uri": "https://localhost:8080/"
        },
        "id": "qp8a2JZZ1YuI",
        "outputId": "b3219a2d-fd66-4416-b8d8-f42bf52a0c58"
      },
      "outputs": [],
      "source": [
        "bool(10 not in a)"
      ]
    },
    {
      "cell_type": "code",
      "execution_count": null,
      "metadata": {
        "colab": {
          "base_uri": "https://localhost:8080/"
        },
        "id": "IdbQGE9K4eyW",
        "outputId": "baa74599-c525-4ffd-b558-4fab38459c4a"
      },
      "outputs": [],
      "source": [
        "pocket = ['paper',  'cellphone']\n",
        "card = True \n",
        "if 'money' in pocket:\n",
        "  print(\"택시를 타고 가라\")\n",
        "elif card == True:\n",
        "  print(\"택시를 타고 가라\")\n",
        "else:\n",
        "  print(\"걸어가라\")"
      ]
    },
    {
      "cell_type": "code",
      "execution_count": null,
      "metadata": {
        "id": "debT2kgx4evm"
      },
      "outputs": [],
      "source": []
    },
    {
      "cell_type": "code",
      "execution_count": null,
      "metadata": {
        "id": "7lcil8Tw4erE"
      },
      "outputs": [],
      "source": []
    },
    {
      "cell_type": "code",
      "execution_count": null,
      "metadata": {
        "id": "ihGC9JI04emq"
      },
      "outputs": [],
      "source": []
    },
    {
      "cell_type": "code",
      "execution_count": null,
      "metadata": {
        "id": "EJ7MHbx24eiz"
      },
      "outputs": [],
      "source": []
    },
    {
      "cell_type": "code",
      "execution_count": null,
      "metadata": {
        "id": "iE3yaETq4efI"
      },
      "outputs": [],
      "source": []
    }
  ],
  "metadata": {
    "colab": {
      "collapsed_sections": [],
      "name": "Lecture1.ipynb",
      "provenance": []
    },
    "kernelspec": {
      "display_name": "Python 3",
      "name": "python3"
    }
  },
  "nbformat": 4,
  "nbformat_minor": 0
}
